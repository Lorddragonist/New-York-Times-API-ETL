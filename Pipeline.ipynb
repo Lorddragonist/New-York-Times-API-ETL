{
 "cells": [
  {
   "cell_type": "code",
   "execution_count": 1,
   "metadata": {
    "cell_id": "18193ceae9e84e54bc62fb6f098853f7",
    "deepnote_app_block_group_id": null,
    "deepnote_app_block_order": 0,
    "deepnote_app_block_visible": true,
    "deepnote_app_is_code_hidden": false,
    "deepnote_app_is_output_hidden": false,
    "deepnote_cell_type": "code",
    "execution_context_id": "90164bfa-d149-4e98-82f5-d61380a5bead",
    "execution_millis": 864,
    "execution_start": 1743699453713,
    "source_hash": "b50db84"
   },
   "outputs": [
    {
     "name": "stdout",
     "output_type": "stream",
     "text": [
      "Current directory: /datasets/_deepnote_work\n"
     ]
    }
   ],
   "source": [
    "import os\n",
    "import sys\n",
    "\n",
    "current_dir = os.getcwd()\n",
    "print(f\"Current directory: {current_dir}\")\n",
    "if current_dir not in sys.path:\n",
    "    sys.path.append(current_dir)\n",
    "\n",
    "etl_dir = os.path.join(current_dir, 'ETL')\n",
    "if etl_dir not in sys.path:\n",
    "    sys.path.append(etl_dir)\n",
    "\n",
    "from ETL.extract import extract_data\n",
    "from ETL.transform import transform_data\n",
    "from ETL.load import load_data"
   ]
  },
  {
   "cell_type": "code",
   "execution_count": 2,
   "metadata": {
    "cell_id": "b475ff44ba464339a9d25d32725b7768",
    "deepnote_app_block_group_id": null,
    "deepnote_app_block_order": 1,
    "deepnote_app_block_visible": true,
    "deepnote_app_is_code_hidden": false,
    "deepnote_app_is_output_hidden": false,
    "deepnote_cell_type": "code",
    "execution_context_id": "90164bfa-d149-4e98-82f5-d61380a5bead",
    "execution_millis": 1,
    "execution_start": 1743699454633,
    "source_hash": "e4c9af03"
   },
   "outputs": [
    {
     "name": "stdout",
     "output_type": "stream",
     "text": [
      "Target articles count: 10\n",
      "Search parameter: economy\n"
     ]
    }
   ],
   "source": [
    "\n",
    "target_articles_count = 10\n",
    "\n",
    "key_word = 'economy'\n",
    "\n",
    "print(f\"Target articles count: {target_articles_count}\")\n",
    "print(f\"Search parameter: {key_word}\")"
   ]
  },
  {
   "cell_type": "code",
   "execution_count": 3,
   "metadata": {
    "cell_id": "cf3ecbdbd82d463a9ae78cac1548f78f",
    "deepnote_app_block_group_id": null,
    "deepnote_app_block_order": 2,
    "deepnote_app_block_visible": true,
    "deepnote_app_is_code_hidden": false,
    "deepnote_app_is_output_hidden": false,
    "deepnote_cell_type": "code",
    "execution_context_id": "90164bfa-d149-4e98-82f5-d61380a5bead",
    "execution_millis": 476,
    "execution_start": 1743699454694,
    "source_hash": "b99397a"
   },
   "outputs": [
    {
     "name": "stdout",
     "output_type": "stream",
     "text": [
      "10 were downloaded\n",
      "json number 1 has been processed\n"
     ]
    },
    {
     "data": {
      "application/vnd.deepnote.dataframe.v3+json": {
       "column_count": 13,
       "columns": [
        {
         "dtype": "object",
         "name": "id",
         "stats": {
          "categories": [
           {
            "count": 1,
            "name": "nyt://article/68fc22cb-6964-5398-bc31-ae8de2e8df1b"
           },
           {
            "count": 1,
            "name": "nyt://article/c26f5249-017c-591a-91a1-ff8cd167ab27"
           },
           {
            "count": 8,
            "name": "8 others"
           }
          ],
          "nan_count": 0,
          "unique_count": 10
         }
        },
        {
         "dtype": "object",
         "name": "web_url",
         "stats": {
          "categories": [
           {
            "count": 1,
            "name": "https://www.nytimes.com/2025/04/03/business/economy/japan-trump-tariffs.html"
           },
           {
            "count": 1,
            "name": "https://www.nytimes.com/2025/04/03/business/economy/egg-prices-trump-fact-check.html"
           },
           {
            "count": 8,
            "name": "8 others"
           }
          ],
          "nan_count": 0,
          "unique_count": 10
         }
        },
        {
         "dtype": "object",
         "name": "abstract",
         "stats": {
          "categories": [
           {
            "count": 1,
            "name": "Japan has refrained from talk of striking back at U.S. tariffs. Trade experts say that is because its inflation-strained economy limits its options."
           },
           {
            "count": 1,
            "name": "As he announced sweeping tariffs, President Trump claimed there had been a large decline in the price of eggs. That’s not the whole picture."
           },
           {
            "count": 8,
            "name": "8 others"
           }
          ],
          "nan_count": 0,
          "unique_count": 10
         }
        },
        {
         "dtype": "object",
         "name": "print_sections",
         "stats": {
          "categories": [
           {
            "count": 3,
            "name": "A"
           },
           {
            "count": 1,
            "name": "B"
           },
           {
            "count": 6,
            "name": "Missing"
           }
          ],
          "nan_count": 6,
          "unique_count": 2
         }
        },
        {
         "dtype": "object",
         "name": "print_pages",
         "stats": {
          "categories": [
           {
            "count": 4,
            "name": "1"
           },
           {
            "count": 6,
            "name": "Missing"
           }
          ],
          "nan_count": 6,
          "unique_count": 1
         }
        },
        {
         "dtype": "object",
         "name": "main_headline",
         "stats": {
          "categories": [
           {
            "count": 1,
            "name": "Japan Lacks a ‘Viable Option’ for Retaliating to Trump’s Tariffs"
           },
           {
            "count": 1,
            "name": "Fact-Checking Trump’s Claim About Egg Prices"
           },
           {
            "count": 8,
            "name": "8 others"
           }
          ],
          "nan_count": 0,
          "unique_count": 10
         }
        },
        {
         "dtype": "int64",
         "name": "multimedia_count",
         "stats": {
          "histogram": [
           {
            "bin_end": 7.5,
            "bin_start": 0,
            "count": 2
           },
           {
            "bin_end": 15,
            "bin_start": 7.5,
            "count": 0
           },
           {
            "bin_end": 22.5,
            "bin_start": 15,
            "count": 0
           },
           {
            "bin_end": 30,
            "bin_start": 22.5,
            "count": 0
           },
           {
            "bin_end": 37.5,
            "bin_start": 30,
            "count": 0
           },
           {
            "bin_end": 45,
            "bin_start": 37.5,
            "count": 0
           },
           {
            "bin_end": 52.5,
            "bin_start": 45,
            "count": 0
           },
           {
            "bin_end": 60,
            "bin_start": 52.5,
            "count": 0
           },
           {
            "bin_end": 67.5,
            "bin_start": 60,
            "count": 0
           },
           {
            "bin_end": 75,
            "bin_start": 67.5,
            "count": 8
           }
          ],
          "max": "75",
          "min": "0",
          "nan_count": 0,
          "unique_count": 2
         }
        },
        {
         "dtype": "float64",
         "name": "average_of_height",
         "stats": {
          "histogram": [
           {
            "bin_end": 480.28133333333335,
            "bin_start": 473.50666666666666,
            "count": 1
           },
           {
            "bin_end": 487.056,
            "bin_start": 480.28133333333335,
            "count": 0
           },
           {
            "bin_end": 493.8306666666667,
            "bin_start": 487.056,
            "count": 1
           },
           {
            "bin_end": 500.6053333333333,
            "bin_start": 493.8306666666667,
            "count": 1
           },
           {
            "bin_end": 507.38,
            "bin_start": 500.6053333333333,
            "count": 2
           },
           {
            "bin_end": 514.1546666666667,
            "bin_start": 507.38,
            "count": 1
           },
           {
            "bin_end": 520.9293333333334,
            "bin_start": 514.1546666666667,
            "count": 0
           },
           {
            "bin_end": 527.704,
            "bin_start": 520.9293333333334,
            "count": 0
           },
           {
            "bin_end": 534.4786666666666,
            "bin_start": 527.704,
            "count": 0
           },
           {
            "bin_end": 541.2533333333333,
            "bin_start": 534.4786666666666,
            "count": 2
           }
          ],
          "max": "541.2533333333333",
          "min": "473.50666666666666",
          "nan_count": 2,
          "unique_count": 8
         }
        },
        {
         "dtype": "float64",
         "name": "median_of_width",
         "stats": {
          "histogram": [
           {
            "bin_end": 479.6,
            "bin_start": 479.5,
            "count": 0
           },
           {
            "bin_end": 479.7,
            "bin_start": 479.6,
            "count": 0
           },
           {
            "bin_end": 479.8,
            "bin_start": 479.7,
            "count": 0
           },
           {
            "bin_end": 479.9,
            "bin_start": 479.8,
            "count": 0
           },
           {
            "bin_end": 480,
            "bin_start": 479.9,
            "count": 0
           },
           {
            "bin_end": 480.1,
            "bin_start": 480,
            "count": 8
           },
           {
            "bin_end": 480.2,
            "bin_start": 480.1,
            "count": 0
           },
           {
            "bin_end": 480.3,
            "bin_start": 480.2,
            "count": 0
           },
           {
            "bin_end": 480.4,
            "bin_start": 480.3,
            "count": 0
           },
           {
            "bin_end": 480.5,
            "bin_start": 480.4,
            "count": 0
           }
          ],
          "max": "480.0",
          "min": "480.0",
          "nan_count": 2,
          "unique_count": 1
         }
        },
        {
         "dtype": "int64",
         "name": "keywords_count",
         "stats": {
          "histogram": [
           {
            "bin_end": 4.1,
            "bin_start": 3,
            "count": 1
           },
           {
            "bin_end": 5.2,
            "bin_start": 4.1,
            "count": 2
           },
           {
            "bin_end": 6.300000000000001,
            "bin_start": 5.2,
            "count": 0
           },
           {
            "bin_end": 7.4,
            "bin_start": 6.300000000000001,
            "count": 1
           },
           {
            "bin_end": 8.5,
            "bin_start": 7.4,
            "count": 1
           },
           {
            "bin_end": 9.600000000000001,
            "bin_start": 8.5,
            "count": 0
           },
           {
            "bin_end": 10.700000000000001,
            "bin_start": 9.600000000000001,
            "count": 2
           },
           {
            "bin_end": 11.8,
            "bin_start": 10.700000000000001,
            "count": 1
           },
           {
            "bin_end": 12.9,
            "bin_start": 11.8,
            "count": 0
           },
           {
            "bin_end": 14,
            "bin_start": 12.9,
            "count": 2
           }
          ],
          "max": "14",
          "min": "3",
          "nan_count": 0,
          "unique_count": 8
         }
        },
        {
         "dtype": "object",
         "name": "document_type",
         "stats": {
          "categories": [
           {
            "count": 10,
            "name": "article"
           }
          ],
          "nan_count": 0,
          "unique_count": 1
         }
        },
        {
         "dtype": "object",
         "name": "pub_date",
         "stats": {
          "categories": [
           {
            "count": 5,
            "name": "2025-04-03"
           },
           {
            "count": 3,
            "name": "2025-04-02"
           },
           {
            "count": 2,
            "name": "2 others"
           }
          ],
          "nan_count": 0,
          "unique_count": 4
         }
        },
        {
         "dtype": "int64",
         "name": "word_count",
         "stats": {
          "histogram": [
           {
            "bin_end": 414.3,
            "bin_start": 245,
            "count": 2
           },
           {
            "bin_end": 583.6,
            "bin_start": 414.3,
            "count": 1
           },
           {
            "bin_end": 752.9000000000001,
            "bin_start": 583.6,
            "count": 0
           },
           {
            "bin_end": 922.2,
            "bin_start": 752.9000000000001,
            "count": 2
           },
           {
            "bin_end": 1091.5,
            "bin_start": 922.2,
            "count": 0
           },
           {
            "bin_end": 1260.8000000000002,
            "bin_start": 1091.5,
            "count": 0
           },
           {
            "bin_end": 1430.1000000000001,
            "bin_start": 1260.8000000000002,
            "count": 0
           },
           {
            "bin_end": 1599.4,
            "bin_start": 1430.1000000000001,
            "count": 2
           },
           {
            "bin_end": 1768.7,
            "bin_start": 1599.4,
            "count": 1
           },
           {
            "bin_end": 1938,
            "bin_start": 1768.7,
            "count": 2
           }
          ],
          "max": "1938",
          "min": "245",
          "nan_count": 0,
          "unique_count": 10
         }
        },
        {
         "dtype": "int64",
         "name": "_deepnote_index_column"
        }
       ],
       "row_count": 10,
       "rows": [
        {
         "_deepnote_index_column": 0,
         "abstract": "Japan has refrained from talk of striking back at U.S. tariffs. Trade experts say that is because its inflation-strained economy limits its options.",
         "average_of_height": 503.46666666666664,
         "document_type": "article",
         "id": "nyt://article/68fc22cb-6964-5398-bc31-ae8de2e8df1b",
         "keywords_count": 5,
         "main_headline": "Japan Lacks a ‘Viable Option’ for Retaliating to Trump’s Tariffs",
         "median_of_width": 480,
         "multimedia_count": 75,
         "print_pages": "None",
         "print_sections": "None",
         "pub_date": "2025-04-03",
         "web_url": "https://www.nytimes.com/2025/04/03/business/economy/japan-trump-tariffs.html",
         "word_count": 420
        },
        {
         "_deepnote_index_column": 1,
         "abstract": "As he announced sweeping tariffs, President Trump claimed there had been a large decline in the price of eggs. That’s not the whole picture.",
         "average_of_height": 473.50666666666666,
         "document_type": "article",
         "id": "nyt://article/c26f5249-017c-591a-91a1-ff8cd167ab27",
         "keywords_count": 3,
         "main_headline": "Fact-Checking Trump’s Claim About Egg Prices",
         "median_of_width": 480,
         "multimedia_count": 75,
         "print_pages": "None",
         "print_sections": "None",
         "pub_date": "2025-04-03",
         "web_url": "https://www.nytimes.com/2025/04/03/business/economy/egg-prices-trump-fact-check.html",
         "word_count": 245
        },
        {
         "_deepnote_index_column": 2,
         "abstract": "Some of the more sparsely populated territories in the world that do little trade with the United States have been caught up in the trade war.",
         "average_of_height": 535.1333333333333,
         "document_type": "article",
         "id": "nyt://article/508f53a7-9c60-523d-97df-9b15ca13387b",
         "keywords_count": 14,
         "main_headline": "More Penguins Than People: Trump Imposes Tariffs on Remote Islands",
         "median_of_width": 480,
         "multimedia_count": 75,
         "print_pages": "None",
         "print_sections": "None",
         "pub_date": "2025-04-03",
         "web_url": "https://www.nytimes.com/2025/04/03/business/economy/trump-tariffs-uninhabited-islands.html",
         "word_count": 357
        },
        {
         "_deepnote_index_column": 3,
         "abstract": "In spite of a prolonged charm offensive by Prime Minister Keir Starmer, President Trump said that the U.K. would be hit with the universal base rate levied on all countries.",
         "average_of_height": 501.41333333333336,
         "document_type": "article",
         "id": "nyt://article/59c8b926-6288-58d3-94f4-1abe119ca318",
         "keywords_count": 10,
         "main_headline": "Britain Tried Everything, Including a Royal Invite. It Got a 10% Tariff.",
         "median_of_width": 480,
         "multimedia_count": 75,
         "print_pages": "None",
         "print_sections": "None",
         "pub_date": "2025-04-03",
         "web_url": "https://www.nytimes.com/2025/04/03/world/europe/uk-trump-tariffs.html",
         "word_count": 849
        },
        {
         "_deepnote_index_column": 4,
         "abstract": "Service sectors make up the vast bulk of the American economy, which gives trading partners some clout in trade negotiations.",
         "average_of_height": 490.49333333333334,
         "document_type": "article",
         "id": "nyt://article/74d32d34-0ba2-54dd-b631-e7ea9300fe7e",
         "keywords_count": 11,
         "main_headline": "Countries Targeted by Trump’s Tariffs May Strike Back at U.S. Services",
         "median_of_width": 480,
         "multimedia_count": 75,
         "print_pages": "None",
         "print_sections": "None",
         "pub_date": "2025-04-02",
         "web_url": "https://www.nytimes.com/2025/04/02/business/economy/tariffs-foreign-goods-tariffs-us-services.html",
         "word_count": 915
        },
        {
         "_deepnote_index_column": 5,
         "abstract": "The president said the charges, at least 10 percent on nearly all trading partners, would restore fairness, but experts warned they could destabilize the world’s economy.",
         "average_of_height": "nan",
         "document_type": "article",
         "id": "nyt://article/899d3df9-82a4-5718-bcfb-cf3f3f9f142d",
         "keywords_count": 5,
         "main_headline": "Trump Unveils Expansive Global Tariffs",
         "median_of_width": "nan",
         "multimedia_count": 0,
         "print_pages": "1",
         "print_sections": "A",
         "pub_date": "2025-04-02",
         "web_url": "https://www.nytimes.com/2025/04/02/business/economy/trump-tariffs.html",
         "word_count": 1748
        },
        {
         "_deepnote_index_column": 6,
         "abstract": "The president says “jobs and factories will come roaring back” because of his trade policies, but the economic story of the American 21st century has also been shaped by the deliberate pursuit of freer trade.",
         "average_of_height": 511.29333333333335,
         "document_type": "article",
         "id": "nyt://article/5fa576a8-1b10-554b-806b-d50ad06bafae",
         "keywords_count": 8,
         "main_headline": "Trump Is Promising a Manufacturing Renaissance. Is That Even Possible?",
         "median_of_width": 480,
         "multimedia_count": 75,
         "print_pages": "None",
         "print_sections": "None",
         "pub_date": "2025-04-03",
         "web_url": "https://www.nytimes.com/2025/04/03/business/economy/trump-tariffs-us-manufacturing-economy.html",
         "word_count": 1538
        },
        {
         "_deepnote_index_column": 7,
         "abstract": "The central bank’s outreach to companies has taken on new significance as the outlook for growth and inflation gets cloudier.",
         "average_of_height": 541.2533333333333,
         "document_type": "article",
         "id": "nyt://article/69964c02-1495-51a0-b770-2a7a7d062e18",
         "keywords_count": 10,
         "main_headline": "As Trump Stokes Uncertainty, the Fed Asks Businesses Where It Hurts",
         "median_of_width": 480,
         "multimedia_count": 75,
         "print_pages": "1",
         "print_sections": "B",
         "pub_date": "2025-04-01",
         "web_url": "https://www.nytimes.com/2025/04/01/business/economy/trump-tariffs-fed-economy.html",
         "word_count": 1938
        },
        {
         "_deepnote_index_column": 8,
         "abstract": "President Trump says that countries have been ripping off the United States for decades. There is some truth to that argument — but also a lot of hypocrisy.",
         "average_of_height": 495.17333333333335,
         "document_type": "article",
         "id": "nyt://article/df6fbd8b-697c-518c-811a-66b5bd807c0d",
         "keywords_count": 7,
         "main_headline": "Trump Says Global Trade Is Unfair. Does He Have a Point?",
         "median_of_width": 480,
         "multimedia_count": 75,
         "print_pages": "1",
         "print_sections": "A",
         "pub_date": "2025-04-02",
         "web_url": "https://www.nytimes.com/2025/04/02/us/politics/trump-tariffs-global-trade.html",
         "word_count": 1552
        },
        {
         "_deepnote_index_column": 9,
         "abstract": "A surge in U.S. wealth has been driven by stock and home values. But the gains are concentrated at the top, leaving others in a sour economic mood.",
         "average_of_height": "nan",
         "document_type": "article",
         "id": "nyt://article/6238e11d-8ef2-527b-bf2c-32f515a3ccfa",
         "keywords_count": 13,
         "main_headline": "America Has Never Been Wealthier. Here’s Why It Doesn’t Feel That Way.",
         "median_of_width": "nan",
         "multimedia_count": 0,
         "print_pages": "1",
         "print_sections": "A",
         "pub_date": "2025-03-31",
         "web_url": "https://www.nytimes.com/2025/03/31/business/economy/wealth-cash-inequality.html",
         "word_count": 1811
        }
       ],
       "type": "dataframe"
      },
      "text/html": [
       "<div>\n",
       "<style scoped>\n",
       "    .dataframe tbody tr th:only-of-type {\n",
       "        vertical-align: middle;\n",
       "    }\n",
       "\n",
       "    .dataframe tbody tr th {\n",
       "        vertical-align: top;\n",
       "    }\n",
       "\n",
       "    .dataframe thead th {\n",
       "        text-align: right;\n",
       "    }\n",
       "</style>\n",
       "<table border=\"1\" class=\"dataframe\">\n",
       "  <thead>\n",
       "    <tr style=\"text-align: right;\">\n",
       "      <th></th>\n",
       "      <th>id</th>\n",
       "      <th>web_url</th>\n",
       "      <th>abstract</th>\n",
       "      <th>print_sections</th>\n",
       "      <th>print_pages</th>\n",
       "      <th>main_headline</th>\n",
       "      <th>multimedia_count</th>\n",
       "      <th>average_of_height</th>\n",
       "      <th>median_of_width</th>\n",
       "      <th>keywords_count</th>\n",
       "      <th>document_type</th>\n",
       "      <th>pub_date</th>\n",
       "      <th>word_count</th>\n",
       "    </tr>\n",
       "  </thead>\n",
       "  <tbody>\n",
       "    <tr>\n",
       "      <th>0</th>\n",
       "      <td>nyt://article/68fc22cb-6964-5398-bc31-ae8de2e8...</td>\n",
       "      <td>https://www.nytimes.com/2025/04/03/business/ec...</td>\n",
       "      <td>Japan has refrained from talk of striking back...</td>\n",
       "      <td>None</td>\n",
       "      <td>None</td>\n",
       "      <td>Japan Lacks a ‘Viable Option’ for Retaliating ...</td>\n",
       "      <td>75</td>\n",
       "      <td>503.466667</td>\n",
       "      <td>480.0</td>\n",
       "      <td>5</td>\n",
       "      <td>article</td>\n",
       "      <td>2025-04-03</td>\n",
       "      <td>420</td>\n",
       "    </tr>\n",
       "    <tr>\n",
       "      <th>1</th>\n",
       "      <td>nyt://article/c26f5249-017c-591a-91a1-ff8cd167...</td>\n",
       "      <td>https://www.nytimes.com/2025/04/03/business/ec...</td>\n",
       "      <td>As he announced sweeping tariffs, President Tr...</td>\n",
       "      <td>None</td>\n",
       "      <td>None</td>\n",
       "      <td>Fact-Checking Trump’s Claim About Egg Prices</td>\n",
       "      <td>75</td>\n",
       "      <td>473.506667</td>\n",
       "      <td>480.0</td>\n",
       "      <td>3</td>\n",
       "      <td>article</td>\n",
       "      <td>2025-04-03</td>\n",
       "      <td>245</td>\n",
       "    </tr>\n",
       "    <tr>\n",
       "      <th>2</th>\n",
       "      <td>nyt://article/508f53a7-9c60-523d-97df-9b15ca13...</td>\n",
       "      <td>https://www.nytimes.com/2025/04/03/business/ec...</td>\n",
       "      <td>Some of the more sparsely populated territorie...</td>\n",
       "      <td>None</td>\n",
       "      <td>None</td>\n",
       "      <td>More Penguins Than People: Trump Imposes Tarif...</td>\n",
       "      <td>75</td>\n",
       "      <td>535.133333</td>\n",
       "      <td>480.0</td>\n",
       "      <td>14</td>\n",
       "      <td>article</td>\n",
       "      <td>2025-04-03</td>\n",
       "      <td>357</td>\n",
       "    </tr>\n",
       "    <tr>\n",
       "      <th>3</th>\n",
       "      <td>nyt://article/59c8b926-6288-58d3-94f4-1abe119c...</td>\n",
       "      <td>https://www.nytimes.com/2025/04/03/world/europ...</td>\n",
       "      <td>In spite of a prolonged charm offensive by Pri...</td>\n",
       "      <td>None</td>\n",
       "      <td>None</td>\n",
       "      <td>Britain Tried Everything, Including a Royal In...</td>\n",
       "      <td>75</td>\n",
       "      <td>501.413333</td>\n",
       "      <td>480.0</td>\n",
       "      <td>10</td>\n",
       "      <td>article</td>\n",
       "      <td>2025-04-03</td>\n",
       "      <td>849</td>\n",
       "    </tr>\n",
       "    <tr>\n",
       "      <th>4</th>\n",
       "      <td>nyt://article/74d32d34-0ba2-54dd-b631-e7ea9300...</td>\n",
       "      <td>https://www.nytimes.com/2025/04/02/business/ec...</td>\n",
       "      <td>Service sectors make up the vast bulk of the A...</td>\n",
       "      <td>None</td>\n",
       "      <td>None</td>\n",
       "      <td>Countries Targeted by Trump’s Tariffs May Stri...</td>\n",
       "      <td>75</td>\n",
       "      <td>490.493333</td>\n",
       "      <td>480.0</td>\n",
       "      <td>11</td>\n",
       "      <td>article</td>\n",
       "      <td>2025-04-02</td>\n",
       "      <td>915</td>\n",
       "    </tr>\n",
       "    <tr>\n",
       "      <th>5</th>\n",
       "      <td>nyt://article/899d3df9-82a4-5718-bcfb-cf3f3f9f...</td>\n",
       "      <td>https://www.nytimes.com/2025/04/02/business/ec...</td>\n",
       "      <td>The president said the charges, at least 10 pe...</td>\n",
       "      <td>A</td>\n",
       "      <td>1</td>\n",
       "      <td>Trump Unveils Expansive Global Tariffs</td>\n",
       "      <td>0</td>\n",
       "      <td>NaN</td>\n",
       "      <td>NaN</td>\n",
       "      <td>5</td>\n",
       "      <td>article</td>\n",
       "      <td>2025-04-02</td>\n",
       "      <td>1748</td>\n",
       "    </tr>\n",
       "    <tr>\n",
       "      <th>6</th>\n",
       "      <td>nyt://article/5fa576a8-1b10-554b-806b-d50ad06b...</td>\n",
       "      <td>https://www.nytimes.com/2025/04/03/business/ec...</td>\n",
       "      <td>The president says “jobs and factories will co...</td>\n",
       "      <td>None</td>\n",
       "      <td>None</td>\n",
       "      <td>Trump Is Promising a Manufacturing Renaissance...</td>\n",
       "      <td>75</td>\n",
       "      <td>511.293333</td>\n",
       "      <td>480.0</td>\n",
       "      <td>8</td>\n",
       "      <td>article</td>\n",
       "      <td>2025-04-03</td>\n",
       "      <td>1538</td>\n",
       "    </tr>\n",
       "    <tr>\n",
       "      <th>7</th>\n",
       "      <td>nyt://article/69964c02-1495-51a0-b770-2a7a7d06...</td>\n",
       "      <td>https://www.nytimes.com/2025/04/01/business/ec...</td>\n",
       "      <td>The central bank’s outreach to companies has t...</td>\n",
       "      <td>B</td>\n",
       "      <td>1</td>\n",
       "      <td>As Trump Stokes Uncertainty, the Fed Asks Busi...</td>\n",
       "      <td>75</td>\n",
       "      <td>541.253333</td>\n",
       "      <td>480.0</td>\n",
       "      <td>10</td>\n",
       "      <td>article</td>\n",
       "      <td>2025-04-01</td>\n",
       "      <td>1938</td>\n",
       "    </tr>\n",
       "    <tr>\n",
       "      <th>8</th>\n",
       "      <td>nyt://article/df6fbd8b-697c-518c-811a-66b5bd80...</td>\n",
       "      <td>https://www.nytimes.com/2025/04/02/us/politics...</td>\n",
       "      <td>President Trump says that countries have been ...</td>\n",
       "      <td>A</td>\n",
       "      <td>1</td>\n",
       "      <td>Trump Says Global Trade Is Unfair. Does He Hav...</td>\n",
       "      <td>75</td>\n",
       "      <td>495.173333</td>\n",
       "      <td>480.0</td>\n",
       "      <td>7</td>\n",
       "      <td>article</td>\n",
       "      <td>2025-04-02</td>\n",
       "      <td>1552</td>\n",
       "    </tr>\n",
       "    <tr>\n",
       "      <th>9</th>\n",
       "      <td>nyt://article/6238e11d-8ef2-527b-bf2c-32f515a3...</td>\n",
       "      <td>https://www.nytimes.com/2025/03/31/business/ec...</td>\n",
       "      <td>A surge in U.S. wealth has been driven by stoc...</td>\n",
       "      <td>A</td>\n",
       "      <td>1</td>\n",
       "      <td>America Has Never Been Wealthier. Here’s Why I...</td>\n",
       "      <td>0</td>\n",
       "      <td>NaN</td>\n",
       "      <td>NaN</td>\n",
       "      <td>13</td>\n",
       "      <td>article</td>\n",
       "      <td>2025-03-31</td>\n",
       "      <td>1811</td>\n",
       "    </tr>\n",
       "  </tbody>\n",
       "</table>\n",
       "</div>"
      ],
      "text/plain": [
       "                                                  id  \\\n",
       "0  nyt://article/68fc22cb-6964-5398-bc31-ae8de2e8...   \n",
       "1  nyt://article/c26f5249-017c-591a-91a1-ff8cd167...   \n",
       "2  nyt://article/508f53a7-9c60-523d-97df-9b15ca13...   \n",
       "3  nyt://article/59c8b926-6288-58d3-94f4-1abe119c...   \n",
       "4  nyt://article/74d32d34-0ba2-54dd-b631-e7ea9300...   \n",
       "5  nyt://article/899d3df9-82a4-5718-bcfb-cf3f3f9f...   \n",
       "6  nyt://article/5fa576a8-1b10-554b-806b-d50ad06b...   \n",
       "7  nyt://article/69964c02-1495-51a0-b770-2a7a7d06...   \n",
       "8  nyt://article/df6fbd8b-697c-518c-811a-66b5bd80...   \n",
       "9  nyt://article/6238e11d-8ef2-527b-bf2c-32f515a3...   \n",
       "\n",
       "                                             web_url  \\\n",
       "0  https://www.nytimes.com/2025/04/03/business/ec...   \n",
       "1  https://www.nytimes.com/2025/04/03/business/ec...   \n",
       "2  https://www.nytimes.com/2025/04/03/business/ec...   \n",
       "3  https://www.nytimes.com/2025/04/03/world/europ...   \n",
       "4  https://www.nytimes.com/2025/04/02/business/ec...   \n",
       "5  https://www.nytimes.com/2025/04/02/business/ec...   \n",
       "6  https://www.nytimes.com/2025/04/03/business/ec...   \n",
       "7  https://www.nytimes.com/2025/04/01/business/ec...   \n",
       "8  https://www.nytimes.com/2025/04/02/us/politics...   \n",
       "9  https://www.nytimes.com/2025/03/31/business/ec...   \n",
       "\n",
       "                                            abstract print_sections  \\\n",
       "0  Japan has refrained from talk of striking back...           None   \n",
       "1  As he announced sweeping tariffs, President Tr...           None   \n",
       "2  Some of the more sparsely populated territorie...           None   \n",
       "3  In spite of a prolonged charm offensive by Pri...           None   \n",
       "4  Service sectors make up the vast bulk of the A...           None   \n",
       "5  The president said the charges, at least 10 pe...              A   \n",
       "6  The president says “jobs and factories will co...           None   \n",
       "7  The central bank’s outreach to companies has t...              B   \n",
       "8  President Trump says that countries have been ...              A   \n",
       "9  A surge in U.S. wealth has been driven by stoc...              A   \n",
       "\n",
       "  print_pages                                      main_headline  \\\n",
       "0        None  Japan Lacks a ‘Viable Option’ for Retaliating ...   \n",
       "1        None       Fact-Checking Trump’s Claim About Egg Prices   \n",
       "2        None  More Penguins Than People: Trump Imposes Tarif...   \n",
       "3        None  Britain Tried Everything, Including a Royal In...   \n",
       "4        None  Countries Targeted by Trump’s Tariffs May Stri...   \n",
       "5           1             Trump Unveils Expansive Global Tariffs   \n",
       "6        None  Trump Is Promising a Manufacturing Renaissance...   \n",
       "7           1  As Trump Stokes Uncertainty, the Fed Asks Busi...   \n",
       "8           1  Trump Says Global Trade Is Unfair. Does He Hav...   \n",
       "9           1  America Has Never Been Wealthier. Here’s Why I...   \n",
       "\n",
       "   multimedia_count  average_of_height  median_of_width  keywords_count  \\\n",
       "0                75         503.466667            480.0               5   \n",
       "1                75         473.506667            480.0               3   \n",
       "2                75         535.133333            480.0              14   \n",
       "3                75         501.413333            480.0              10   \n",
       "4                75         490.493333            480.0              11   \n",
       "5                 0                NaN              NaN               5   \n",
       "6                75         511.293333            480.0               8   \n",
       "7                75         541.253333            480.0              10   \n",
       "8                75         495.173333            480.0               7   \n",
       "9                 0                NaN              NaN              13   \n",
       "\n",
       "  document_type    pub_date  word_count  \n",
       "0       article  2025-04-03         420  \n",
       "1       article  2025-04-03         245  \n",
       "2       article  2025-04-03         357  \n",
       "3       article  2025-04-03         849  \n",
       "4       article  2025-04-02         915  \n",
       "5       article  2025-04-02        1748  \n",
       "6       article  2025-04-03        1538  \n",
       "7       article  2025-04-01        1938  \n",
       "8       article  2025-04-02        1552  \n",
       "9       article  2025-03-31        1811  "
      ]
     },
     "execution_count": 3,
     "metadata": {},
     "output_type": "execute_result"
    }
   ],
   "source": [
    "raw_data = extract_data(key_word, target_articles_count)\n",
    "transformed_data = transform_data(raw_data)\n",
    "transformed_data"
   ]
  },
  {
   "cell_type": "code",
   "execution_count": 4,
   "metadata": {
    "cell_id": "7690dcd091784cb8a2f0749f14e5cdb1",
    "deepnote_app_block_group_id": null,
    "deepnote_app_block_order": 3,
    "deepnote_app_block_visible": true,
    "deepnote_app_is_code_hidden": false,
    "deepnote_app_is_output_hidden": false,
    "deepnote_cell_type": "code",
    "execution_context_id": "90164bfa-d149-4e98-82f5-d61380a5bead",
    "execution_millis": 2465,
    "execution_start": 1743699455214,
    "source_hash": "82df7d73"
   },
   "outputs": [
    {
     "name": "stdout",
     "output_type": "stream",
     "text": [
      "\n",
      "✅ Successful connection to MySQL database\n",
      "\n",
      "✅ Table created and updated successfully\n"
     ]
    }
   ],
   "source": [
    "load_data(transformed_data)"
   ]
  },
  {
   "cell_type": "markdown",
   "metadata": {
    "cell_id": "022d9fd8532d466a8ff3788d727813f1",
    "deepnote_app_block_group_id": null,
    "deepnote_app_block_order": 4,
    "deepnote_app_block_visible": true,
    "deepnote_cell_type": "text-cell-p",
    "formattedRanges": []
   },
   "source": []
  },
  {
   "cell_type": "markdown",
   "metadata": {
    "created_in_deepnote_cell": true,
    "deepnote_cell_type": "markdown"
   },
   "source": [
    "<a style='text-decoration:none;line-height:16px;display:flex;color:#5B5B62;padding:10px;justify-content:end;' href='https://deepnote.com?utm_source=created-in-deepnote-cell&projectId=5f8dba36-f843-4ac9-a30d-cbfc52102617' target=\"_blank\">\n",
    "<img alt='Created in deepnote.com' style='display:inline;max-height:16px;margin:0px;margin-right:7.5px;' src='data:image/svg+xml;base64,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' > </img>\n",
    "Created in <span style='font-weight:600;margin-left:4px;'>Deepnote</span></a>"
   ]
  }
 ],
 "metadata": {
  "deepnote_app_clear_outputs": false,
  "deepnote_app_comments_enabled": false,
  "deepnote_app_embed_enabled": true,
  "deepnote_app_execution_enabled": false,
  "deepnote_app_layout": "powerful-article",
  "deepnote_app_reactivity_enabled": false,
  "deepnote_app_run_on_input_enabled": false,
  "deepnote_app_run_on_load_enabled": false,
  "deepnote_notebook_id": "e79207e609b14bae94c7093b471ae931",
  "deepnote_persisted_session": {
   "createdAt": "2025-04-03T17:08:33.991Z"
  },
  "kernelspec": {
   "display_name": ".venv",
   "language": "python",
   "name": "python3"
  },
  "language_info": {
   "name": "python",
   "version": "3.10.8"
  }
 },
 "nbformat": 4,
 "nbformat_minor": 0
}
